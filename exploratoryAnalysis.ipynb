{
 "cells": [
  {
   "cell_type": "markdown",
   "metadata": {},
   "source": [
    "Austin Marckx\n",
    "2022-09-13\n",
    "Exploratory Data Analysis"
   ]
  },
  {
   "cell_type": "code",
   "execution_count": 54,
   "metadata": {},
   "outputs": [],
   "source": [
    "import pandas as pd\n",
    "import numpy as np\n",
    "import matplotlib.pyplot as plt\n",
    "import seaborn\n",
    "from sklearn.preprocessing import OneHotEncoder, LabelEncoder\n",
    "\n",
    "from sklearn.ensemble import RandomForestRegressor\n",
    "from sklearn.mixture import GaussianMixture, BayesianGaussianMixture\n",
    "#from gmr import GMM"
   ]
  },
  {
   "cell_type": "code",
   "execution_count": 4,
   "metadata": {},
   "outputs": [],
   "source": [
    "df = pd.read_excel('./data/AD.training.xlsx')"
   ]
  },
  {
   "cell_type": "code",
   "execution_count": 5,
   "metadata": {},
   "outputs": [
    {
     "data": {
      "text/html": [
       "<div>\n",
       "<style scoped>\n",
       "    .dataframe tbody tr th:only-of-type {\n",
       "        vertical-align: middle;\n",
       "    }\n",
       "\n",
       "    .dataframe tbody tr th {\n",
       "        vertical-align: top;\n",
       "    }\n",
       "\n",
       "    .dataframe thead th {\n",
       "        text-align: right;\n",
       "    }\n",
       "</style>\n",
       "<table border=\"1\" class=\"dataframe\">\n",
       "  <thead>\n",
       "    <tr style=\"text-align: right;\">\n",
       "      <th></th>\n",
       "      <th>RID</th>\n",
       "      <th>PTID</th>\n",
       "      <th>EXAMDATE</th>\n",
       "      <th>DX.bl</th>\n",
       "      <th>AGE</th>\n",
       "      <th>PTGENDER</th>\n",
       "      <th>PTEDUCAT</th>\n",
       "      <th>APOE4</th>\n",
       "      <th>MMSE</th>\n",
       "      <th>MMSE.Change</th>\n",
       "    </tr>\n",
       "  </thead>\n",
       "  <tbody>\n",
       "    <tr>\n",
       "      <th>0</th>\n",
       "      <td>222.0</td>\n",
       "      <td>005_S_0222</td>\n",
       "      <td>2006-03-17</td>\n",
       "      <td>LMCI</td>\n",
       "      <td>85.9</td>\n",
       "      <td>Male</td>\n",
       "      <td>18.0</td>\n",
       "      <td>0.0</td>\n",
       "      <td>25.0</td>\n",
       "      <td>1.0</td>\n",
       "    </tr>\n",
       "    <tr>\n",
       "      <th>1</th>\n",
       "      <td>1380.0</td>\n",
       "      <td>072_S_1380</td>\n",
       "      <td>2007-04-04</td>\n",
       "      <td>LMCI</td>\n",
       "      <td>84.7</td>\n",
       "      <td>Male</td>\n",
       "      <td>12.0</td>\n",
       "      <td>0.0</td>\n",
       "      <td>29.0</td>\n",
       "      <td>0.0</td>\n",
       "    </tr>\n",
       "    <tr>\n",
       "      <th>2</th>\n",
       "      <td>1321.0</td>\n",
       "      <td>012_S_1321</td>\n",
       "      <td>2007-03-12</td>\n",
       "      <td>LMCI</td>\n",
       "      <td>83.2</td>\n",
       "      <td>Male</td>\n",
       "      <td>20.0</td>\n",
       "      <td>0.0</td>\n",
       "      <td>28.0</td>\n",
       "      <td>1.0</td>\n",
       "    </tr>\n",
       "    <tr>\n",
       "      <th>3</th>\n",
       "      <td>4521.0</td>\n",
       "      <td>002_S_4521</td>\n",
       "      <td>2012-02-23</td>\n",
       "      <td>LMCI</td>\n",
       "      <td>70.0</td>\n",
       "      <td>Male</td>\n",
       "      <td>18.0</td>\n",
       "      <td>1.0</td>\n",
       "      <td>27.0</td>\n",
       "      <td>-2.0</td>\n",
       "    </tr>\n",
       "    <tr>\n",
       "      <th>4</th>\n",
       "      <td>4216.0</td>\n",
       "      <td>073_S_4216</td>\n",
       "      <td>2011-09-19</td>\n",
       "      <td>EMCI</td>\n",
       "      <td>56.4</td>\n",
       "      <td>Male</td>\n",
       "      <td>14.0</td>\n",
       "      <td>0.0</td>\n",
       "      <td>29.0</td>\n",
       "      <td>-2.0</td>\n",
       "    </tr>\n",
       "    <tr>\n",
       "      <th>...</th>\n",
       "      <td>...</td>\n",
       "      <td>...</td>\n",
       "      <td>...</td>\n",
       "      <td>...</td>\n",
       "      <td>...</td>\n",
       "      <td>...</td>\n",
       "      <td>...</td>\n",
       "      <td>...</td>\n",
       "      <td>...</td>\n",
       "      <td>...</td>\n",
       "    </tr>\n",
       "    <tr>\n",
       "      <th>379</th>\n",
       "      <td>685.0</td>\n",
       "      <td>002_S_0685</td>\n",
       "      <td>2006-07-20</td>\n",
       "      <td>CN</td>\n",
       "      <td>89.6</td>\n",
       "      <td>Female</td>\n",
       "      <td>16.0</td>\n",
       "      <td>0.0</td>\n",
       "      <td>30.0</td>\n",
       "      <td>0.0</td>\n",
       "    </tr>\n",
       "    <tr>\n",
       "      <th>380</th>\n",
       "      <td>2381.0</td>\n",
       "      <td>009_S_2381</td>\n",
       "      <td>2011-05-31</td>\n",
       "      <td>EMCI</td>\n",
       "      <td>69.1</td>\n",
       "      <td>Male</td>\n",
       "      <td>16.0</td>\n",
       "      <td>2.0</td>\n",
       "      <td>28.0</td>\n",
       "      <td>0.0</td>\n",
       "    </tr>\n",
       "    <tr>\n",
       "      <th>381</th>\n",
       "      <td>4213.0</td>\n",
       "      <td>002_S_4213</td>\n",
       "      <td>2011-09-13</td>\n",
       "      <td>CN</td>\n",
       "      <td>78.0</td>\n",
       "      <td>Female</td>\n",
       "      <td>14.0</td>\n",
       "      <td>0.0</td>\n",
       "      <td>28.0</td>\n",
       "      <td>1.0</td>\n",
       "    </tr>\n",
       "    <tr>\n",
       "      <th>382</th>\n",
       "      <td>3.0</td>\n",
       "      <td>011_S_0003</td>\n",
       "      <td>2005-09-12</td>\n",
       "      <td>AD</td>\n",
       "      <td>81.3</td>\n",
       "      <td>Male</td>\n",
       "      <td>18.0</td>\n",
       "      <td>1.0</td>\n",
       "      <td>20.0</td>\n",
       "      <td>-1.0</td>\n",
       "    </tr>\n",
       "    <tr>\n",
       "      <th>383</th>\n",
       "      <td>110.0</td>\n",
       "      <td>067_S_0110</td>\n",
       "      <td>2006-03-06</td>\n",
       "      <td>AD</td>\n",
       "      <td>82.6</td>\n",
       "      <td>Female</td>\n",
       "      <td>10.0</td>\n",
       "      <td>0.0</td>\n",
       "      <td>23.0</td>\n",
       "      <td>-2.0</td>\n",
       "    </tr>\n",
       "  </tbody>\n",
       "</table>\n",
       "<p>384 rows × 10 columns</p>\n",
       "</div>"
      ],
      "text/plain": [
       "        RID        PTID   EXAMDATE DX.bl   AGE PTGENDER  PTEDUCAT  APOE4  \\\n",
       "0     222.0  005_S_0222 2006-03-17  LMCI  85.9     Male      18.0    0.0   \n",
       "1    1380.0  072_S_1380 2007-04-04  LMCI  84.7     Male      12.0    0.0   \n",
       "2    1321.0  012_S_1321 2007-03-12  LMCI  83.2     Male      20.0    0.0   \n",
       "3    4521.0  002_S_4521 2012-02-23  LMCI  70.0     Male      18.0    1.0   \n",
       "4    4216.0  073_S_4216 2011-09-19  EMCI  56.4     Male      14.0    0.0   \n",
       "..      ...         ...        ...   ...   ...      ...       ...    ...   \n",
       "379   685.0  002_S_0685 2006-07-20    CN  89.6   Female      16.0    0.0   \n",
       "380  2381.0  009_S_2381 2011-05-31  EMCI  69.1     Male      16.0    2.0   \n",
       "381  4213.0  002_S_4213 2011-09-13    CN  78.0   Female      14.0    0.0   \n",
       "382     3.0  011_S_0003 2005-09-12    AD  81.3     Male      18.0    1.0   \n",
       "383   110.0  067_S_0110 2006-03-06    AD  82.6   Female      10.0    0.0   \n",
       "\n",
       "     MMSE  MMSE.Change  \n",
       "0    25.0          1.0  \n",
       "1    29.0          0.0  \n",
       "2    28.0          1.0  \n",
       "3    27.0         -2.0  \n",
       "4    29.0         -2.0  \n",
       "..    ...          ...  \n",
       "379  30.0          0.0  \n",
       "380  28.0          0.0  \n",
       "381  28.0          1.0  \n",
       "382  20.0         -1.0  \n",
       "383  23.0         -2.0  \n",
       "\n",
       "[384 rows x 10 columns]"
      ]
     },
     "execution_count": 5,
     "metadata": {},
     "output_type": "execute_result"
    }
   ],
   "source": [
    "# Dataset looks like it was read in fine.\n",
    "df"
   ]
  },
  {
   "cell_type": "code",
   "execution_count": 19,
   "metadata": {},
   "outputs": [
    {
     "data": {
      "text/html": [
       "<div>\n",
       "<style scoped>\n",
       "    .dataframe tbody tr th:only-of-type {\n",
       "        vertical-align: middle;\n",
       "    }\n",
       "\n",
       "    .dataframe tbody tr th {\n",
       "        vertical-align: top;\n",
       "    }\n",
       "\n",
       "    .dataframe thead th {\n",
       "        text-align: right;\n",
       "    }\n",
       "</style>\n",
       "<table border=\"1\" class=\"dataframe\">\n",
       "  <thead>\n",
       "    <tr style=\"text-align: right;\">\n",
       "      <th></th>\n",
       "      <th>DX.bl</th>\n",
       "      <th>AGE</th>\n",
       "      <th>PTGENDER</th>\n",
       "      <th>PTEDUCAT</th>\n",
       "      <th>APOE4</th>\n",
       "      <th>MMSE</th>\n",
       "      <th>MMSE.Change</th>\n",
       "    </tr>\n",
       "  </thead>\n",
       "  <tbody>\n",
       "    <tr>\n",
       "      <th>0</th>\n",
       "      <td>3</td>\n",
       "      <td>85.9</td>\n",
       "      <td>1</td>\n",
       "      <td>18.0</td>\n",
       "      <td>0</td>\n",
       "      <td>25.0</td>\n",
       "      <td>1.0</td>\n",
       "    </tr>\n",
       "    <tr>\n",
       "      <th>1</th>\n",
       "      <td>3</td>\n",
       "      <td>84.7</td>\n",
       "      <td>1</td>\n",
       "      <td>12.0</td>\n",
       "      <td>0</td>\n",
       "      <td>29.0</td>\n",
       "      <td>0.0</td>\n",
       "    </tr>\n",
       "    <tr>\n",
       "      <th>2</th>\n",
       "      <td>3</td>\n",
       "      <td>83.2</td>\n",
       "      <td>1</td>\n",
       "      <td>20.0</td>\n",
       "      <td>0</td>\n",
       "      <td>28.0</td>\n",
       "      <td>1.0</td>\n",
       "    </tr>\n",
       "    <tr>\n",
       "      <th>3</th>\n",
       "      <td>3</td>\n",
       "      <td>70.0</td>\n",
       "      <td>1</td>\n",
       "      <td>18.0</td>\n",
       "      <td>1</td>\n",
       "      <td>27.0</td>\n",
       "      <td>-2.0</td>\n",
       "    </tr>\n",
       "    <tr>\n",
       "      <th>4</th>\n",
       "      <td>2</td>\n",
       "      <td>56.4</td>\n",
       "      <td>1</td>\n",
       "      <td>14.0</td>\n",
       "      <td>0</td>\n",
       "      <td>29.0</td>\n",
       "      <td>-2.0</td>\n",
       "    </tr>\n",
       "    <tr>\n",
       "      <th>...</th>\n",
       "      <td>...</td>\n",
       "      <td>...</td>\n",
       "      <td>...</td>\n",
       "      <td>...</td>\n",
       "      <td>...</td>\n",
       "      <td>...</td>\n",
       "      <td>...</td>\n",
       "    </tr>\n",
       "    <tr>\n",
       "      <th>379</th>\n",
       "      <td>1</td>\n",
       "      <td>89.6</td>\n",
       "      <td>0</td>\n",
       "      <td>16.0</td>\n",
       "      <td>0</td>\n",
       "      <td>30.0</td>\n",
       "      <td>0.0</td>\n",
       "    </tr>\n",
       "    <tr>\n",
       "      <th>380</th>\n",
       "      <td>2</td>\n",
       "      <td>69.1</td>\n",
       "      <td>1</td>\n",
       "      <td>16.0</td>\n",
       "      <td>2</td>\n",
       "      <td>28.0</td>\n",
       "      <td>0.0</td>\n",
       "    </tr>\n",
       "    <tr>\n",
       "      <th>381</th>\n",
       "      <td>1</td>\n",
       "      <td>78.0</td>\n",
       "      <td>0</td>\n",
       "      <td>14.0</td>\n",
       "      <td>0</td>\n",
       "      <td>28.0</td>\n",
       "      <td>1.0</td>\n",
       "    </tr>\n",
       "    <tr>\n",
       "      <th>382</th>\n",
       "      <td>0</td>\n",
       "      <td>81.3</td>\n",
       "      <td>1</td>\n",
       "      <td>18.0</td>\n",
       "      <td>1</td>\n",
       "      <td>20.0</td>\n",
       "      <td>-1.0</td>\n",
       "    </tr>\n",
       "    <tr>\n",
       "      <th>383</th>\n",
       "      <td>0</td>\n",
       "      <td>82.6</td>\n",
       "      <td>0</td>\n",
       "      <td>10.0</td>\n",
       "      <td>0</td>\n",
       "      <td>23.0</td>\n",
       "      <td>-2.0</td>\n",
       "    </tr>\n",
       "  </tbody>\n",
       "</table>\n",
       "<p>384 rows × 7 columns</p>\n",
       "</div>"
      ],
      "text/plain": [
       "     DX.bl   AGE  PTGENDER  PTEDUCAT  APOE4  MMSE  MMSE.Change\n",
       "0        3  85.9         1      18.0      0  25.0          1.0\n",
       "1        3  84.7         1      12.0      0  29.0          0.0\n",
       "2        3  83.2         1      20.0      0  28.0          1.0\n",
       "3        3  70.0         1      18.0      1  27.0         -2.0\n",
       "4        2  56.4         1      14.0      0  29.0         -2.0\n",
       "..     ...   ...       ...       ...    ...   ...          ...\n",
       "379      1  89.6         0      16.0      0  30.0          0.0\n",
       "380      2  69.1         1      16.0      2  28.0          0.0\n",
       "381      1  78.0         0      14.0      0  28.0          1.0\n",
       "382      0  81.3         1      18.0      1  20.0         -1.0\n",
       "383      0  82.6         0      10.0      0  23.0         -2.0\n",
       "\n",
       "[384 rows x 7 columns]"
      ]
     },
     "execution_count": 19,
     "metadata": {},
     "output_type": "execute_result"
    }
   ],
   "source": [
    "pdf = df.drop(['RID', 'PTID', 'EXAMDATE'], axis=1)\n",
    "labelEnc = LabelEncoder()\n",
    "pdf['APOE4'] = labelEnc.fit_transform(pdf['APOE4'])\n",
    "pdf['DX.bl'] = labelEnc.fit_transform(pdf['DX.bl'])\n",
    "pdf['PTGENDER'] = labelEnc.fit_transform(pdf['PTGENDER'])\n",
    "\n",
    "pdf"
   ]
  },
  {
   "cell_type": "code",
   "execution_count": null,
   "metadata": {},
   "outputs": [],
   "source": [
    "# Should probably OHE the labels for the Gaussian mix"
   ]
  },
  {
   "cell_type": "code",
   "execution_count": 46,
   "metadata": {},
   "outputs": [
    {
     "data": {
      "text/plain": [
       "<matplotlib.collections.PathCollection at 0x1d6e3124f40>"
      ]
     },
     "execution_count": 46,
     "metadata": {},
     "output_type": "execute_result"
    },
    {
     "data": {
      "image/png": "[encoded data removed]",
      "text/plain": [
       "<Figure size 432x288 with 1 Axes>"
      ]
     },
     "metadata": {
      "needs_background": "light"
     },
     "output_type": "display_data"
    }
   ],
   "source": [
    "#https://scikit-learn.org/stable/modules/generated/sklearn.mixture.BayesianGaussianMixture.html#sklearn.mixture.BayesianGaussianMixture\n",
    "bgmm_sklearn = BayesianGaussianMixture(n_components=2, covariance_type='diag')\n",
    "bgmm_sklearn.fit(pdf)\n",
    "bgmm_labels = bgmm_sklearn.predict(pdf)\n",
    "\n",
    "plt.scatter(pdf.loc[:, 'MMSE.Change'], pdf.loc[:, 'MMSE'], c=bgmm_labels, s=40, cmap='viridis')"
   ]
  },
  {
   "cell_type": "code",
   "execution_count": 61,
   "metadata": {},
   "outputs": [],
   "source": [
    "X = pdf.drop('MMSE.Change', axis=1)\n",
    "Y = pdf.loc[:,'MMSE.Change']"
   ]
  },
  {
   "cell_type": "code",
   "execution_count": 87,
   "metadata": {},
   "outputs": [
    {
     "data": {
      "text/plain": [
       "<matplotlib.collections.PathCollection at 0x1d6e57a1f70>"
      ]
     },
     "execution_count": 87,
     "metadata": {},
     "output_type": "execute_result"
    },
    {
     "data": {
      "image/png": "[encoded data removed]",
      "text/plain": [
       "<Figure size 432x288 with 1 Axes>"
      ]
     },
     "metadata": {
      "needs_background": "light"
     },
     "output_type": "display_data"
    }
   ],
   "source": [
    "#https://scikit-learn.org/stable/modules/generated/sklearn.mixture.BayesianGaussianMixture.html#sklearn.mixture.BayesianGaussianMixture\n",
    "bgmm_sklearn = BayesianGaussianMixture(n_components=2, covariance_type='full')\n",
    "bgmm_sklearn.fit(pdf.drop('MMSE.Change', axis=1))\n",
    "#bgmm_labels = bgmm_sklearn.predict(pdf)\n",
    "\n",
    "pdf['lab'] = bgmm_sklearn.predict(pdf.drop('MMSE.Change', axis=1))\n",
    "X['lab'] = pdf['lab']\n",
    "\n",
    "plt.scatter(pdf.loc[:, 'MMSE.Change'], pdf.loc[:, 'MMSE'], c=pdf.loc[:,'lab'], s=40, cmap='viridis')"
   ]
  },
  {
   "cell_type": "code",
   "execution_count": 88,
   "metadata": {},
   "outputs": [
    {
     "data": {
      "text/html": [
       "<div>\n",
       "<style scoped>\n",
       "    .dataframe tbody tr th:only-of-type {\n",
       "        vertical-align: middle;\n",
       "    }\n",
       "\n",
       "    .dataframe tbody tr th {\n",
       "        vertical-align: top;\n",
       "    }\n",
       "\n",
       "    .dataframe thead th {\n",
       "        text-align: right;\n",
       "    }\n",
       "</style>\n",
       "<table border=\"1\" class=\"dataframe\">\n",
       "  <thead>\n",
       "    <tr style=\"text-align: right;\">\n",
       "      <th></th>\n",
       "      <th>DX.bl</th>\n",
       "      <th>AGE</th>\n",
       "      <th>PTGENDER</th>\n",
       "      <th>PTEDUCAT</th>\n",
       "      <th>APOE4</th>\n",
       "      <th>MMSE</th>\n",
       "      <th>MMSE.Change</th>\n",
       "      <th>lab</th>\n",
       "    </tr>\n",
       "  </thead>\n",
       "  <tbody>\n",
       "    <tr>\n",
       "      <th>0</th>\n",
       "      <td>3</td>\n",
       "      <td>85.9</td>\n",
       "      <td>1</td>\n",
       "      <td>18.0</td>\n",
       "      <td>0</td>\n",
       "      <td>25.0</td>\n",
       "      <td>1.0</td>\n",
       "      <td>0</td>\n",
       "    </tr>\n",
       "    <tr>\n",
       "      <th>1</th>\n",
       "      <td>3</td>\n",
       "      <td>84.7</td>\n",
       "      <td>1</td>\n",
       "      <td>12.0</td>\n",
       "      <td>0</td>\n",
       "      <td>29.0</td>\n",
       "      <td>0.0</td>\n",
       "      <td>0</td>\n",
       "    </tr>\n",
       "    <tr>\n",
       "      <th>2</th>\n",
       "      <td>3</td>\n",
       "      <td>83.2</td>\n",
       "      <td>1</td>\n",
       "      <td>20.0</td>\n",
       "      <td>0</td>\n",
       "      <td>28.0</td>\n",
       "      <td>1.0</td>\n",
       "      <td>0</td>\n",
       "    </tr>\n",
       "    <tr>\n",
       "      <th>3</th>\n",
       "      <td>3</td>\n",
       "      <td>70.0</td>\n",
       "      <td>1</td>\n",
       "      <td>18.0</td>\n",
       "      <td>1</td>\n",
       "      <td>27.0</td>\n",
       "      <td>-2.0</td>\n",
       "      <td>1</td>\n",
       "    </tr>\n",
       "    <tr>\n",
       "      <th>4</th>\n",
       "      <td>2</td>\n",
       "      <td>56.4</td>\n",
       "      <td>1</td>\n",
       "      <td>14.0</td>\n",
       "      <td>0</td>\n",
       "      <td>29.0</td>\n",
       "      <td>-2.0</td>\n",
       "      <td>1</td>\n",
       "    </tr>\n",
       "    <tr>\n",
       "      <th>...</th>\n",
       "      <td>...</td>\n",
       "      <td>...</td>\n",
       "      <td>...</td>\n",
       "      <td>...</td>\n",
       "      <td>...</td>\n",
       "      <td>...</td>\n",
       "      <td>...</td>\n",
       "      <td>...</td>\n",
       "    </tr>\n",
       "    <tr>\n",
       "      <th>379</th>\n",
       "      <td>1</td>\n",
       "      <td>89.6</td>\n",
       "      <td>0</td>\n",
       "      <td>16.0</td>\n",
       "      <td>0</td>\n",
       "      <td>30.0</td>\n",
       "      <td>0.0</td>\n",
       "      <td>1</td>\n",
       "    </tr>\n",
       "    <tr>\n",
       "      <th>380</th>\n",
       "      <td>2</td>\n",
       "      <td>69.1</td>\n",
       "      <td>1</td>\n",
       "      <td>16.0</td>\n",
       "      <td>2</td>\n",
       "      <td>28.0</td>\n",
       "      <td>0.0</td>\n",
       "      <td>1</td>\n",
       "    </tr>\n",
       "    <tr>\n",
       "      <th>381</th>\n",
       "      <td>1</td>\n",
       "      <td>78.0</td>\n",
       "      <td>0</td>\n",
       "      <td>14.0</td>\n",
       "      <td>0</td>\n",
       "      <td>28.0</td>\n",
       "      <td>1.0</td>\n",
       "      <td>1</td>\n",
       "    </tr>\n",
       "    <tr>\n",
       "      <th>382</th>\n",
       "      <td>0</td>\n",
       "      <td>81.3</td>\n",
       "      <td>1</td>\n",
       "      <td>18.0</td>\n",
       "      <td>1</td>\n",
       "      <td>20.0</td>\n",
       "      <td>-1.0</td>\n",
       "      <td>0</td>\n",
       "    </tr>\n",
       "    <tr>\n",
       "      <th>383</th>\n",
       "      <td>0</td>\n",
       "      <td>82.6</td>\n",
       "      <td>0</td>\n",
       "      <td>10.0</td>\n",
       "      <td>0</td>\n",
       "      <td>23.0</td>\n",
       "      <td>-2.0</td>\n",
       "      <td>0</td>\n",
       "    </tr>\n",
       "  </tbody>\n",
       "</table>\n",
       "<p>384 rows × 8 columns</p>\n",
       "</div>"
      ],
      "text/plain": [
       "     DX.bl   AGE  PTGENDER  PTEDUCAT  APOE4  MMSE  MMSE.Change  lab\n",
       "0        3  85.9         1      18.0      0  25.0          1.0    0\n",
       "1        3  84.7         1      12.0      0  29.0          0.0    0\n",
       "2        3  83.2         1      20.0      0  28.0          1.0    0\n",
       "3        3  70.0         1      18.0      1  27.0         -2.0    1\n",
       "4        2  56.4         1      14.0      0  29.0         -2.0    1\n",
       "..     ...   ...       ...       ...    ...   ...          ...  ...\n",
       "379      1  89.6         0      16.0      0  30.0          0.0    1\n",
       "380      2  69.1         1      16.0      2  28.0          0.0    1\n",
       "381      1  78.0         0      14.0      0  28.0          1.0    1\n",
       "382      0  81.3         1      18.0      1  20.0         -1.0    0\n",
       "383      0  82.6         0      10.0      0  23.0         -2.0    0\n",
       "\n",
       "[384 rows x 8 columns]"
      ]
     },
     "execution_count": 88,
     "metadata": {},
     "output_type": "execute_result"
    }
   ],
   "source": [
    "pdf"
   ]
  },
  {
   "cell_type": "code",
   "execution_count": 91,
   "metadata": {},
   "outputs": [
    {
     "data": {
      "text/plain": [
       "array([ 1.52000000e+00, -4.00000000e-02, -1.60000000e-01, -2.54000000e+00,\n",
       "       -1.69000000e+00, -4.53000000e+00, -4.20000000e-01,  8.10000000e-01,\n",
       "        1.08000000e+00, -1.19000000e+00,  3.00000000e-01, -8.60000000e-01,\n",
       "       -1.60000000e-01,  4.70000000e-01, -9.00000000e-02, -5.68000000e+00,\n",
       "        1.11000000e+00, -3.29000000e+00, -2.80000000e+00,  2.04000000e+00,\n",
       "       -5.70000000e-01, -3.30000000e-01,  1.81000000e+00, -4.48333333e-01,\n",
       "       -1.13000000e+00, -3.30000000e-01, -1.00000000e-02, -9.60000000e-01,\n",
       "       -2.37000000e+00, -5.33000000e+00,  7.30000000e-01,  4.00000000e-02,\n",
       "       -4.59000000e+00, -9.06000000e+00, -4.60000000e-01, -1.42000000e+00,\n",
       "        2.46000000e+00, -3.04000000e+00, -7.00000000e-01, -5.66000000e+00,\n",
       "        1.50000000e+00, -3.20000000e+00,  8.30000000e-01, -1.74000000e+00,\n",
       "       -3.20000000e-01, -4.56000000e+00, -7.19000000e+00, -3.17000000e+00,\n",
       "       -4.80000000e-01, -5.40000000e-01, -1.10000000e-01,  4.20000000e-01,\n",
       "        8.80000000e-01, -5.00000000e-02,  8.40000000e-01, -9.20000000e-01,\n",
       "       -2.00000000e-01, -2.20000000e-01, -2.90000000e-01, -2.00000000e-01,\n",
       "       -1.43000000e+00, -1.13000000e+00, -1.28000000e+00, -1.50000000e-01,\n",
       "       -1.44000000e+00, -4.18000000e+00, -6.97000000e+00, -4.30000000e-01,\n",
       "       -2.10000000e-01,  1.00000000e-01, -4.60000000e-01,  1.70000000e+00,\n",
       "       -1.92000000e+00, -3.57000000e+00,  2.30000000e-01, -7.38000000e+00,\n",
       "        1.70000000e-01, -6.40000000e-01,  1.99000000e+00, -4.10000000e-01,\n",
       "        0.00000000e+00,  1.63000000e+00, -4.56000000e+00,  5.80000000e-01,\n",
       "       -9.20000000e-01,  8.00000000e-01, -7.50000000e-01, -2.18000000e+00,\n",
       "       -1.08000000e+00,  3.00000000e-02, -2.23000000e+00, -2.01333333e+00,\n",
       "       -3.70000000e-01, -2.17000000e+00, -2.14000000e+00, -3.60000000e+00,\n",
       "       -1.28000000e+00, -8.30000000e-01, -2.66000000e-01, -8.90000000e-01,\n",
       "       -3.00000000e-02, -4.33000000e+00,  7.90000000e-01, -3.33333333e-02,\n",
       "       -3.40000000e-01, -2.57000000e+00, -2.14000000e+00, -5.40000000e-01,\n",
       "       -4.30000000e-01, -1.15000000e+00, -3.27000000e+00, -8.30000000e-01,\n",
       "       -1.92000000e+00,  1.00000000e-02,  5.00000000e-01,  2.30000000e-01,\n",
       "       -8.60000000e+00, -6.70000000e-01,  5.00000000e-02,  2.90000000e-01,\n",
       "       -1.96000000e+00,  7.60000000e-01, -2.58000000e+00,  1.10000000e-01,\n",
       "       -1.58000000e+00, -3.00000000e-02,  2.64000000e+00, -4.11500000e-01,\n",
       "       -4.60000000e-01, -7.00000000e-02,  3.10000000e-01, -4.10000000e+00,\n",
       "        7.90000000e-01, -1.08800000e+01, -1.66000000e+00, -1.36500000e+01,\n",
       "        5.16666667e-01, -9.20000000e-01,  9.10000000e-01, -2.10000000e-01,\n",
       "       -2.78000000e+00, -6.10000000e-01, -2.10000000e+00, -8.06000000e+00,\n",
       "       -4.00000000e-01, -3.10000000e-01, -3.99000000e+00, -2.17000000e+00,\n",
       "        1.84000000e+00, -4.32000000e+00,  2.70000000e-01, -1.60000000e-01,\n",
       "       -1.70000000e+00, -2.27000000e+00,  1.90000000e-01, -7.00000000e-02,\n",
       "        1.75666667e+00, -1.20000000e-01, -1.58000000e+00, -4.83000000e+00,\n",
       "        6.60000000e-01, -1.73000000e+00, -5.80000000e-01, -1.22000000e+00,\n",
       "       -7.00000000e-02, -3.46000000e+00, -8.54000000e+00, -2.18000000e+00,\n",
       "       -4.23000000e+00, -1.81000000e+00, -9.30000000e-01, -1.06000000e+00,\n",
       "       -9.60000000e-01, -1.52000000e+00, -2.22000000e+00, -3.14000000e+00,\n",
       "       -1.49000000e+00,  3.60000000e-01, -1.06000000e+00,  1.77000000e+00,\n",
       "       -1.31600000e+01, -2.08333333e+00,  1.09000000e+00,  1.40000000e-01,\n",
       "        1.53000000e+00, -9.66666667e-02,  1.09000000e+00, -2.78000000e+00,\n",
       "       -7.66666667e-01, -7.60000000e-01, -4.67000000e+00, -8.47666667e-01,\n",
       "       -3.84000000e+00, -3.00000000e-01, -2.00000000e+00, -2.29000000e+00,\n",
       "       -2.72000000e+00,  1.67000000e+00,  1.38000000e+00, -2.00000000e-02,\n",
       "       -1.60000000e+00,  7.00000000e-02, -8.88000000e+00, -7.40000000e-01,\n",
       "       -1.10000000e+00, -6.00000000e-02, -9.90000000e-01, -4.11500000e-01,\n",
       "        1.10000000e-01, -2.33000000e+00,  2.83000000e+00, -1.39000000e+00,\n",
       "       -3.50000000e-01,  3.00000000e-02, -6.10000000e-01, -3.24000000e+00,\n",
       "        7.10000000e-01, -1.33400000e+01, -2.55000000e+00,  6.30000000e-01,\n",
       "       -6.31000000e+00, -5.98000000e+00, -3.90000000e-01, -4.30000000e-01,\n",
       "       -3.62000000e+00, -3.13000000e+00, -3.87000000e+00, -3.28000000e+00,\n",
       "       -8.00000000e-01,  4.70000000e-01,  1.30000000e-01,  5.00000000e-01,\n",
       "       -1.23000000e+01, -4.88000000e+00, -6.73000000e+00, -1.38000000e+00,\n",
       "       -3.00000000e+00, -3.58000000e+00, -9.60000000e-01,  1.60000000e+00,\n",
       "       -2.15000000e-01, -3.03333333e-01, -8.60000000e-01, -5.98000000e+00,\n",
       "       -5.10000000e-01, -7.90000000e-01, -1.00000000e-01, -6.01000000e+00,\n",
       "       -6.30000000e-01,  2.95000000e+00, -2.00000000e-01, -1.22000000e+00,\n",
       "       -9.70000000e-01, -5.30000000e-01,  2.17000000e+00,  8.30000000e-01,\n",
       "       -1.05600000e+01, -1.50000000e-01, -4.28000000e+00, -3.63333333e-01,\n",
       "       -7.40000000e-01, -8.30000000e+00,  2.21000000e+00, -1.67000000e+00,\n",
       "       -1.59000000e+00,  3.70000000e-01, -5.29000000e+00, -5.94000000e+00,\n",
       "       -1.91000000e+00, -1.76000000e+00,  1.08000000e+00,  2.40000000e-01,\n",
       "       -4.60000000e-01,  1.26000000e+00, -9.10000000e-01, -9.10000000e-01,\n",
       "        7.00000000e-01,  7.70000000e-01, -7.29000000e+00, -1.41000000e+00,\n",
       "       -2.31500000e+00, -9.60000000e-01,  5.40000000e-01, -4.55000000e+00,\n",
       "       -2.20000000e-01, -4.70000000e-01, -1.67000000e+00,  6.60000000e-01,\n",
       "       -1.12000000e+00, -3.34000000e+00, -2.72000000e+00, -1.13300000e+01,\n",
       "       -3.08000000e+00,  5.70000000e-01, -8.47666667e-01, -3.98000000e+00,\n",
       "       -4.47000000e+00, -4.99000000e+00,  6.90000000e-01, -5.16000000e+00,\n",
       "       -2.70000000e-01, -4.59000000e+00, -1.59000000e+00,  4.83333333e-01,\n",
       "       -6.00000000e-01, -3.23000000e+00, -2.43000000e+00, -4.89000000e+00,\n",
       "        1.69000000e+00, -8.00000000e-01,  7.00000000e-01, -2.21000000e+00,\n",
       "       -9.80000000e-01, -1.37000000e+00, -3.24000000e+00, -1.40000000e-01,\n",
       "       -8.31000000e+00, -4.80000000e-01, -8.30000000e-01, -7.30000000e+00,\n",
       "       -6.77000000e+00, -1.20000000e+00, -9.00000000e-02, -3.55000000e+00,\n",
       "        1.10000000e-01, -3.45000000e+00, -1.09000000e+00, -6.40000000e-01,\n",
       "       -6.60000000e-01, -1.29000000e+00, -1.21000000e+00, -1.54800000e+01,\n",
       "       -1.00000000e-01, -3.25000000e+00,  1.53000000e+00, -6.00000000e-02,\n",
       "        5.10000000e-01, -5.24000000e+00, -4.50000000e-01,  1.10000000e+00,\n",
       "       -1.29000000e+00, -6.60000000e-01, -1.47000000e+00, -2.32000000e+00,\n",
       "       -7.20000000e-01, -2.68000000e+00, -4.83000000e+00, -3.61000000e+00,\n",
       "       -7.86000000e+00, -1.95000000e+00, -4.01000000e+00, -3.76000000e+00,\n",
       "       -3.70000000e-01, -5.61000000e+00, -1.06000000e+00, -1.25000000e+00,\n",
       "       -1.27000000e+00,  1.76000000e+00,  6.60000000e-01, -1.02000000e+00,\n",
       "       -1.96000000e+00, -2.20000000e-01,  8.40000000e-01,  1.63000000e+00,\n",
       "       -1.29000000e+00, -5.70000000e-01,  1.56000000e+00, -2.81000000e+00,\n",
       "       -2.60000000e-01, -2.46000000e+00, -6.40000000e-01,  1.51000000e+00,\n",
       "       -1.25000000e+00, -3.50000000e-01, -1.72000000e+00, -3.80000000e-01,\n",
       "        2.10000000e-01, -9.30000000e-01, -4.13000000e+00, -3.30000000e-01,\n",
       "        5.50000000e-01,  1.08000000e+00, -1.51000000e+00, -2.46000000e+00])"
      ]
     },
     "execution_count": 91,
     "metadata": {},
     "output_type": "execute_result"
    }
   ],
   "source": [
    "rf = RandomForestRegressor()\n",
    "rf.fit(X, Y)\n",
    "\n"
   ]
  },
  {
   "cell_type": "code",
   "execution_count": 93,
   "metadata": {},
   "outputs": [
    {
     "data": {
      "text/plain": [
       "array([0.19239814, 0.3779528 , 0.04048081, 0.14108149, 0.06393632,\n",
       "       0.17050512, 0.01364532])"
      ]
     },
     "execution_count": 93,
     "metadata": {},
     "output_type": "execute_result"
    }
   ],
   "source": [
    "train_pred = rf.predict(X)\n",
    "rf.feature_importances_"
   ]
  },
  {
   "cell_type": "code",
   "execution_count": 94,
   "metadata": {},
   "outputs": [
    {
     "data": {
      "text/plain": [
       "RandomForestRegressor()"
      ]
     },
     "execution_count": 94,
     "metadata": {},
     "output_type": "execute_result"
    }
   ],
   "source": [
    "rf"
   ]
  },
  {
   "cell_type": "code",
   "execution_count": null,
   "metadata": {},
   "outputs": [],
   "source": [
    "#https://scikit-learn.org/stable/auto_examples/ensemble/plot_stack_predictors.html#sphx-glr-auto-examples-ensemble-plot-stack-predictors-py"
   ]
  },
  {
   "cell_type": "code",
   "execution_count": 45,
   "metadata": {},
   "outputs": [
    {
     "data": {
      "text/plain": [
       "<matplotlib.collections.PathCollection at 0x1d6e30c1be0>"
      ]
     },
     "execution_count": 45,
     "metadata": {},
     "output_type": "execute_result"
    },
    {
     "data": {
      "image/png": "[encoded data removed]",
      "text/plain": [
       "<Figure size 432x288 with 1 Axes>"
      ]
     },
     "metadata": {
      "needs_background": "light"
     },
     "output_type": "display_data"
    }
   ],
   "source": [
    "#https://scikit-learn.org/stable/modules/generated/sklearn.mixture.GaussianMixture.html\n",
    "gmm_sklearn = GaussianMixture(n_components=4, covariance_type='diag')\n",
    "gmm_sklearn.fit(pdf)\n",
    "labels = gmm_sklearn.predict(pdf)\n",
    "\n",
    "plt.scatter(pdf.loc[:, 'MMSE.Change'], pdf.loc[:, 'MMSE'], c=labels, s=40, cmap='viridis')"
   ]
  },
  {
   "cell_type": "code",
   "execution_count": 27,
   "metadata": {},
   "outputs": [],
   "source": [
    "from matplotlib.patches import Ellipse\n",
    "\n",
    "def draw_ellipse(position, covariance, ax=None, **kwargs):\n",
    "    \"\"\"Draw an ellipse with a given position and covariance\"\"\"\n",
    "    ax = ax or plt.gca()\n",
    "    \n",
    "    # Convert covariance to principal axes\n",
    "    if covariance.shape == (2, 2):\n",
    "        U, s, Vt = np.linalg.svd(covariance)\n",
    "        angle = np.degrees(np.arctan2(U[1, 0], U[0, 0]))\n",
    "        width, height = 2 * np.sqrt(s)\n",
    "    else:\n",
    "        angle = 0\n",
    "        width, height = 2 * np.sqrt(covariance)\n",
    "    \n",
    "    # Draw the Ellipse\n",
    "    for nsig in range(1, 4):\n",
    "        ax.add_patch(Ellipse(position, nsig * width, nsig * height,\n",
    "                             angle, **kwargs))\n",
    "        \n",
    "def plot_gmm(gmm, X, label=True, ax=None):\n",
    "    ax = ax or plt.gca()\n",
    "    labels = gmm.fit(X).predict(X)\n",
    "    if label:\n",
    "        ax.scatter(X[:, 0], X[:, 1], c=labels, s=40, cmap='viridis', zorder=2)\n",
    "    else:\n",
    "        ax.scatter(X[:, 0], X[:, 1], s=40, zorder=2)\n",
    "    ax.axis('equal')\n",
    "    \n",
    "    w_factor = 0.2 / gmm.weights_.max()\n",
    "    for pos, covar, w in zip(gmm.means_, gmm.covars_, gmm.weights_):\n",
    "        draw_ellipse(pos, covar, alpha=w * w_factor)"
   ]
  },
  {
   "cell_type": "code",
   "execution_count": 34,
   "metadata": {},
   "outputs": [
    {
     "ename": "AttributeError",
     "evalue": "'GaussianMixture' object has no attribute 'covars_'",
     "output_type": "error",
     "traceback": [
      "\u001b[1;31m---------------------------------------------------------------------------\u001b[0m",
      "\u001b[1;31mAttributeError\u001b[0m                            Traceback (most recent call last)",
      "\u001b[1;32m~\\AppData\\Local\\Temp/ipykernel_5560/726950224.py\u001b[0m in \u001b[0;36m<module>\u001b[1;34m\u001b[0m\n\u001b[1;32m----> 1\u001b[1;33m \u001b[0mplot_gmm\u001b[0m\u001b[1;33m(\u001b[0m\u001b[0mGaussianMixture\u001b[0m\u001b[1;33m(\u001b[0m\u001b[0mn_components\u001b[0m\u001b[1;33m=\u001b[0m\u001b[1;36m4\u001b[0m\u001b[1;33m,\u001b[0m \u001b[0mcovariance_type\u001b[0m\u001b[1;33m=\u001b[0m\u001b[1;34m'diag'\u001b[0m\u001b[1;33m)\u001b[0m\u001b[1;33m,\u001b[0m \u001b[0mpdf\u001b[0m\u001b[1;33m.\u001b[0m\u001b[0mto_numpy\u001b[0m\u001b[1;33m(\u001b[0m\u001b[1;33m)\u001b[0m\u001b[1;33m)\u001b[0m\u001b[1;33m\u001b[0m\u001b[1;33m\u001b[0m\u001b[0m\n\u001b[0m",
      "\u001b[1;32m~\\AppData\\Local\\Temp/ipykernel_5560/786956734.py\u001b[0m in \u001b[0;36mplot_gmm\u001b[1;34m(gmm, X, label, ax)\u001b[0m\n\u001b[0;32m     29\u001b[0m \u001b[1;33m\u001b[0m\u001b[0m\n\u001b[0;32m     30\u001b[0m     \u001b[0mw_factor\u001b[0m \u001b[1;33m=\u001b[0m \u001b[1;36m0.2\u001b[0m \u001b[1;33m/\u001b[0m \u001b[0mgmm\u001b[0m\u001b[1;33m.\u001b[0m\u001b[0mweights_\u001b[0m\u001b[1;33m.\u001b[0m\u001b[0mmax\u001b[0m\u001b[1;33m(\u001b[0m\u001b[1;33m)\u001b[0m\u001b[1;33m\u001b[0m\u001b[1;33m\u001b[0m\u001b[0m\n\u001b[1;32m---> 31\u001b[1;33m     \u001b[1;32mfor\u001b[0m \u001b[0mpos\u001b[0m\u001b[1;33m,\u001b[0m \u001b[0mcovar\u001b[0m\u001b[1;33m,\u001b[0m \u001b[0mw\u001b[0m \u001b[1;32min\u001b[0m \u001b[0mzip\u001b[0m\u001b[1;33m(\u001b[0m\u001b[0mgmm\u001b[0m\u001b[1;33m.\u001b[0m\u001b[0mmeans_\u001b[0m\u001b[1;33m,\u001b[0m \u001b[0mgmm\u001b[0m\u001b[1;33m.\u001b[0m\u001b[0mcovars_\u001b[0m\u001b[1;33m,\u001b[0m \u001b[0mgmm\u001b[0m\u001b[1;33m.\u001b[0m\u001b[0mweights_\u001b[0m\u001b[1;33m)\u001b[0m\u001b[1;33m:\u001b[0m\u001b[1;33m\u001b[0m\u001b[1;33m\u001b[0m\u001b[0m\n\u001b[0m\u001b[0;32m     32\u001b[0m         \u001b[0mdraw_ellipse\u001b[0m\u001b[1;33m(\u001b[0m\u001b[0mpos\u001b[0m\u001b[1;33m,\u001b[0m \u001b[0mcovar\u001b[0m\u001b[1;33m,\u001b[0m \u001b[0malpha\u001b[0m\u001b[1;33m=\u001b[0m\u001b[0mw\u001b[0m \u001b[1;33m*\u001b[0m \u001b[0mw_factor\u001b[0m\u001b[1;33m)\u001b[0m\u001b[1;33m\u001b[0m\u001b[1;33m\u001b[0m\u001b[0m\n",
      "\u001b[1;31mAttributeError\u001b[0m: 'GaussianMixture' object has no attribute 'covars_'"
     ]
    },
    {
     "data": {
      "image/png": "[encoded data removed]",
      "text/plain": [
       "<Figure size 432x288 with 1 Axes>"
      ]
     },
     "metadata": {
      "needs_background": "light"
     },
     "output_type": "display_data"
    }
   ],
   "source": [
    "plot_gmm(GaussianMixture(n_components=4, covariance_type='diag'), pdf.to_numpy())"
   ]
  },
  {
   "cell_type": "code",
   "execution_count": 9,
   "metadata": {},
   "outputs": [
    {
     "name": "stdout",
     "output_type": "stream",
     "text": [
      "Col Types: RID                   float64\n",
      "PTID                   object\n",
      "EXAMDATE       datetime64[ns]\n",
      "DX.bl                  object\n",
      "AGE                   float64\n",
      "PTGENDER               object\n",
      "PTEDUCAT              float64\n",
      "APOE4                 float64\n",
      "MMSE                  float64\n",
      "MMSE.Change           float64\n",
      "dtype: object\n",
      "First Row:[222.0 '005_S_0222' Timestamp('2006-03-17 00:00:00') 'LMCI' 85.9 'Male'\n",
      " 18.0 0.0 25.0 1.0]\n"
     ]
    }
   ],
   "source": [
    "print(f'Col Types: {df.dtypes}\\nFirst Row:{df.values[0]}')"
   ]
  },
  {
   "cell_type": "markdown",
   "metadata": {},
   "source": [
    "Need to fix column types"
   ]
  },
  {
   "cell_type": "code",
   "execution_count": 15,
   "metadata": {},
   "outputs": [
    {
     "name": "stdout",
     "output_type": "stream",
     "text": [
      "Col Types: RID                     int64\n",
      "PTID                    int64\n",
      "EXAMDATE       datetime64[ns]\n",
      "DX.bl                   int64\n",
      "AGE                   float64\n",
      "PTGENDER                int64\n",
      "PTEDUCAT              float64\n",
      "APOE4                   int64\n",
      "MMSE                  float64\n",
      "MMSE.Change           float64\n",
      "dtype: object\n",
      "First Row:[0 0 Timestamp('2006-03-17 00:00:00') 0 85.9 0 18.0 0 25.0 1.0]\n"
     ]
    }
   ],
   "source": [
    "df['RID'], _ = pd.factorize(df['RID'])\n",
    "df['PTID'], _ = df['PTID'].factorize()\n",
    "df['DX.bl'], _ = df['DX.bl'].factorize()\n",
    "df['PTGENDER'], _ = df['PTGENDER'].factorize()\n",
    "df['APOE4'], _ = df['APOE4'].factorize()\n",
    "print(f'Col Types: {df.dtypes}\\nFirst Row:{df.values[0]}')"
   ]
  },
  {
   "cell_type": "code",
   "execution_count": null,
   "metadata": {},
   "outputs": [],
   "source": [
    "df['RID'] = pd.factorize(pd.Categorical(df['RID']))"
   ]
  },
  {
   "cell_type": "code",
   "execution_count": null,
   "metadata": {},
   "outputs": [],
   "source": []
  },
  {
   "cell_type": "code",
   "execution_count": null,
   "metadata": {},
   "outputs": [],
   "source": []
  },
  {
   "cell_type": "code",
   "execution_count": null,
   "metadata": {},
   "outputs": [],
   "source": []
  },
  {
   "cell_type": "code",
   "execution_count": null,
   "metadata": {},
   "outputs": [],
   "source": []
  }
 ],
 "metadata": {
  "kernelspec": {
   "display_name": "Python 3.9.7 ('base')",
   "language": "python",
   "name": "python3"
  },
  "language_info": {
   "codemirror_mode": {
    "name": "ipython",
    "version": 3
   },
   "file_extension": ".py",
   "mimetype": "text/x-python",
   "name": "python",
   "nbconvert_exporter": "python",
   "pygments_lexer": "ipython3",
   "version": "3.9.7"
  },
  "orig_nbformat": 4,
  "vscode": {
   "interpreter": {
    "hash": "c059f2b875842476053c6b0cc88b8428d3db2b25f1539d42eb93fc2e108d9216"
   }
  }
 },
 "nbformat": 4,
 "nbformat_minor": 2
}
